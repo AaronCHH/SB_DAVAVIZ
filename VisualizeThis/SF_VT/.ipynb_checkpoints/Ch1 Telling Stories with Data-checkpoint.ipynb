{
 "cells": [
  {
   "cell_type": "markdown",
   "metadata": {},
   "source": [
    "# Chapter 1: Telling Stories with Data"
   ]
  },
  {
   "cell_type": "code",
   "execution_count": 2,
   "metadata": {
    "collapsed": true
   },
   "outputs": [],
   "source": [
    "import os,sys"
   ]
  },
  {
   "cell_type": "code",
   "execution_count": null,
   "metadata": {
    "collapsed": true
   },
   "outputs": [],
   "source": [
    "list = os.listdir('ch02/')"
   ]
  },
  {
   "cell_type": "markdown",
   "metadata": {},
   "source": [
    "## 1.1 More Than Numbers"
   ]
  },
  {
   "cell_type": "markdown",
   "metadata": {},
   "source": [
    "___Journalism___"
   ]
  },
  {
   "cell_type": "markdown",
   "metadata": {},
   "source": [
    "___Art___"
   ]
  },
  {
   "cell_type": "markdown",
   "metadata": {},
   "source": [
    "___Entertainment___"
   ]
  },
  {
   "cell_type": "markdown",
   "metadata": {},
   "source": [
    "___Compelling___"
   ]
  },
  {
   "cell_type": "markdown",
   "metadata": {},
   "source": [
    "* Check out some of the best New York Times graphics at http://datafl.ws/nytimes  \n",
    "\n",
    "* Interact and explore people's emotions in Jonathan Harris and Sep Kamvar's  live and online piece at http://wefeelfine.org.  \n",
    "\n",
    "* See FlowingData for many more examples of art and data at http://datafl.ws/art.  \n",
    "\n",
    "* Check out the OkTrends blog for more revelations from online dating such as what white people really like and how not to be ugly by accident: http://blog.okcupid.com.  \n",
    "\n",
    "* Watch Hans Rosling wow the audience with data and an amazing demonstration at http://datafl.ws/hans."
   ]
  },
  {
   "cell_type": "markdown",
   "metadata": {},
   "source": [
    "## 1.2 What to Look For"
   ]
  },
  {
   "cell_type": "markdown",
   "metadata": {},
   "source": [
    "___Patterns___"
   ]
  },
  {
   "cell_type": "markdown",
   "metadata": {},
   "source": [
    "___Relationships___"
   ]
  },
  {
   "cell_type": "markdown",
   "metadata": {},
   "source": [
    "___Questionable Data___"
   ]
  },
  {
   "cell_type": "markdown",
   "metadata": {},
   "source": [
    "## 1.3 Design"
   ]
  },
  {
   "cell_type": "markdown",
   "metadata": {},
   "source": [
    "___Explain Encodings___"
   ]
  },
  {
   "cell_type": "markdown",
   "metadata": {},
   "source": [
    "___Label Axes___"
   ]
  },
  {
   "cell_type": "markdown",
   "metadata": {},
   "source": [
    "___Keep Your Geometry in Check___"
   ]
  },
  {
   "cell_type": "markdown",
   "metadata": {},
   "source": [
    "___Include Your Sources___"
   ]
  },
  {
   "cell_type": "markdown",
   "metadata": {},
   "source": [
    "___Consider Your Audience___"
   ]
  },
  {
   "cell_type": "markdown",
   "metadata": {},
   "source": [
    "## 1.4 Wrapping Up"
   ]
  },
  {
   "cell_type": "markdown",
   "metadata": {},
   "source": [
    "In short, start with a question, investigate your data with a critical eye, and figure out the purpose of your graphics and who they’re for.  \n",
    "This will help you design a clear graphic that’s worth people’s time—no matter what kind of graphic it is.  \n",
    "You learn how to do this in the following chapters.  \n",
    "You learn how to handle and visualize data.  \n",
    "You learn how to design graphics from start to finish.  \n",
    "You then apply what you learn to your own data.  \n",
    "Figure out what story you want to tell and design accordingly.  \n"
   ]
  },
  {
   "cell_type": "code",
   "execution_count": null,
   "metadata": {
    "collapsed": true
   },
   "outputs": [],
   "source": []
  }
 ],
 "metadata": {
  "anaconda-cloud": {},
  "kernelspec": {
   "display_name": "Python [default]",
   "language": "python",
   "name": "python3"
  },
  "language_info": {
   "codemirror_mode": {
    "name": "ipython",
    "version": 3
   },
   "file_extension": ".py",
   "mimetype": "text/x-python",
   "name": "python",
   "nbconvert_exporter": "python",
   "pygments_lexer": "ipython3",
   "version": "3.5.2"
  }
 },
 "nbformat": 4,
 "nbformat_minor": 1
}
