{
 "cells": [
  {
   "cell_type": "markdown",
   "metadata": {},
   "source": [
    "# Chapter 4: Visualizing Patterns over Time\n",
    "## 4.1 What to Look for over Time\n",
    "## 4.2 Discrete Points in Time\n",
    "* Discrete Points in Time  \n",
    "  * Bars  \n",
    "    * Create a Bar Graph  \n",
    "    * Refine Your Graph in Illustrator  \n",
    "  * Stack the Bars  \n",
    "    * Create a Stacked Bar Chart  \n",
    "  * Points  \n",
    "    * Create a ScatterPlot  "
   ]
  },
  {
   "cell_type": "markdown",
   "metadata": {},
   "source": [
    "## 4.3 Continuous Data\n",
    "* Connect the Dots  \n",
    "  * Create a Time Series Chart  \n",
    "* Step It Up  \n",
    "  * Create a Step Chart  \n",
    "  * Fit a LOESS Curve  "
   ]
  },
  {
   "cell_type": "markdown",
   "metadata": {},
   "source": [
    "## 4.4 Wrapping Up"
   ]
  },
  {
   "cell_type": "markdown",
   "metadata": {
    "collapsed": true
   },
   "source": [
    "## 4.5 Exercises"
   ]
  },
  {
   "cell_type": "code",
   "execution_count": null,
   "metadata": {
    "collapsed": true
   },
   "outputs": [],
   "source": []
  }
 ],
 "metadata": {
  "anaconda-cloud": {},
  "kernelspec": {
   "display_name": "Python [default]",
   "language": "python",
   "name": "python3"
  },
  "language_info": {
   "codemirror_mode": {
    "name": "ipython",
    "version": 3
   },
   "file_extension": ".py",
   "mimetype": "text/x-python",
   "name": "python",
   "nbconvert_exporter": "python",
   "pygments_lexer": "ipython3",
   "version": "3.5.2"
  }
 },
 "nbformat": 4,
 "nbformat_minor": 1
}
