{
 "cells": [
  {
   "cell_type": "markdown",
   "metadata": {},
   "source": [
    "# Chapter 2: Handling Data\n",
    "## 2.1 Gather Data\n",
    "* Handling Data  \n",
    "* Gather Data  \n",
    "  * Provided by Others  \n",
    "  * Finding Sources  \n",
    "    * Search Engines  \n",
    "    * Direct from the Source  \n",
    "    * Universities  \n",
    "    * General Data Applications  \n",
    "    * Topical Data  \n",
    "      * Geography  \n",
    "      * Sports  \n",
    "      * World  \n",
    "      * Government and Politics  \n",
    "  * Data Scraping  \n",
    "    * Example: Scrape a Website\n",
    "    * Generalizing the Example"
   ]
  },
  {
   "cell_type": "markdown",
   "metadata": {},
   "source": [
    "## 2.2 Formatting Data\n",
    "* Data Formats\n",
    "  * Delimited Text\n",
    "  * JavaScript Object Notation (JSON)\n",
    "  * Extensible Markup Language (XML)\n",
    "* Formatting Tools\n",
    "  * Google Refine\n",
    "  * Mr. Data Converter\n",
    "  * Mr. People\n",
    "  * Spreadsheet Software\n",
    "* Formatting with Code\n",
    "  * Example: Switch Between Data Formats\n",
    "    * Put Logic in the Loop"
   ]
  },
  {
   "cell_type": "markdown",
   "metadata": {},
   "source": [
    "## 2.3 Wrapping Up"
   ]
  },
  {
   "cell_type": "markdown",
   "metadata": {},
   "source": [
    "## 2.4 Exercise"
   ]
  },
  {
   "cell_type": "code",
   "execution_count": null,
   "metadata": {
    "collapsed": false,
    "scrolled": false
   },
   "outputs": [],
   "source": [
    "# %load ch02/add-csv-flag.py\n",
    "import csv\n",
    "reader = csv.reader(open('ch02/wunder-data.txt', 'r'), delimiter=\",\")\n",
    "for row in reader:\n",
    "    if int(row[1]) <= 32:\n",
    "        is_freezing = '1'\n",
    "    else:\n",
    "        is_freezing = '0'\n",
    "    \n",
    "    print(row[0] + \",\" + row[1] + \",\" + is_freezing)"
   ]
  },
  {
   "cell_type": "code",
   "execution_count": null,
   "metadata": {
    "collapsed": false
   },
   "outputs": [],
   "source": [
    "# %load ch02/csv-to-json.py\n",
    "import csv\n",
    "\n",
    "reader = csv.reader(open('ch02/wunder-data.txt', 'r'), delimiter=\",\")\n",
    "\n",
    "print( \"{ observations: [\")\n",
    "\n",
    "rows_so_far = 0\n",
    "for row in reader:\n",
    "    \n",
    "    rows_so_far += 1\n",
    "    \n",
    "    print( '{' )\n",
    "    print( '\"date\": ' + '\"' + row[0] + '\", ')\n",
    "    print( '\"temperature\": ' + row[1] )\n",
    "    \n",
    "    if rows_so_far < 365:\n",
    "        print( \" },\")\n",
    "    else:\n",
    "        print( \" }\")\n",
    "    \n",
    "print( \"] }\")"
   ]
  },
  {
   "cell_type": "code",
   "execution_count": null,
   "metadata": {
    "collapsed": false
   },
   "outputs": [],
   "source": [
    "# %load ch02/csv-to-xml.py\n",
    "import csv\n",
    "\n",
    "reader = csv.reader(open('ch02/wunder-data.txt', 'r'), delimiter=\",\")\n",
    "print('<weather_data>')\n",
    "\n",
    "for row in reader:\n",
    "    print('<observation>')\n",
    "    print('<date>' + row[0] + '</date>')\n",
    "    print('<max_temperature>' + row[1] + '</max_temperature>')\n",
    "    print('</observation>')\n",
    "\n",
    "print('</weather_data>')"
   ]
  },
  {
   "cell_type": "code",
   "execution_count": null,
   "metadata": {
    "collapsed": false,
    "scrolled": true
   },
   "outputs": [],
   "source": [
    "# %load ch02/get-weather-data.py\n",
    "# import urllib2\n",
    "from urllib.request import urlopen\n",
    "# from BeautifulSoup import BeautifulSoup\n",
    "from bs4 import BeautifulSoup\n",
    " \n",
    "# Create/open a file called wunder.txt (which will be a comma-delimited file)\n",
    "f = open('ch02/wunder-data.txt', 'w')\n",
    " \n",
    "# Iterate through months and day\n",
    "for m in range(1, 13):\n",
    "    for d in range(1, 32):\n",
    " \n",
    "      # Check if already gone through month\n",
    "      if (m == 2 and d > 28):\n",
    "        break\n",
    "      elif (m in [4, 6, 9, 11] and d > 30):\n",
    "        break\n",
    " \n",
    "      # Open wunderground.com url\n",
    "      url = \"http://www.wunderground.com/history/airport/KBUF/2009/\" + str(m) + \"/\" + str(d) + \"/DailyHistory.html\"\n",
    "#       page = urllib2.urlopen(url)\n",
    "      page = urlopen(url)\n",
    " \n",
    "      # Get temperature from page\n",
    "      soup = BeautifulSoup(page)\n",
    "      # dayTemp = soup.body.nobr.b.string\n",
    "      dayTemp = soup.findAll(attrs={\"class\":\"nobr\"})[5].span.string\n",
    " \n",
    "      # Format month for timestamp\n",
    "      if len(str(m)) < 2:\n",
    "        mStamp = '0' + str(m)\n",
    "      else:\n",
    "        mStamp = str(m)\n",
    " \n",
    "      # Format day for timestamp\n",
    "      if len(str(d)) < 2:\n",
    "        dStamp = '0' + str(d)\n",
    "      else:\n",
    "        dStamp = str(d)\n",
    " \n",
    "      # Build timestamp\n",
    "      timestamp = '2009' + mStamp + dStamp\n",
    " \n",
    "      # Write timestamp and temperature to file\n",
    "      f.write(timestamp + ',' + dayTemp + '\\n')\n",
    " \n",
    "# Done getting data! Close file.\n",
    "f.close()\n"
   ]
  },
  {
   "cell_type": "code",
   "execution_count": null,
   "metadata": {
    "collapsed": true
   },
   "outputs": [],
   "source": [
    "# %load ch02/get-weather-data-full.py\n",
    "import urllib2\n",
    "from BeautifulSoup import BeautifulSoup\n",
    " \n",
    "# Create/open a file called wunder.txt (which will be a comma-delimited file)\n",
    "f = open('wunder-data.txt', 'w')\n",
    " \n",
    "# Iterate through year, month, and day\n",
    "for y in range(2009, 2010):\n",
    "  for m in range(1, 13):\n",
    "    for d in range(1, 32):\n",
    " \n",
    "      # Check if leap year\n",
    "      if y%400 == 0:\n",
    "        leap = True\n",
    "      elif y%100 == 0:\n",
    "        leap = False\n",
    "      elif y%4 == 0:\n",
    "        leap = True\n",
    "      else:\n",
    "        leap = False\n",
    " \n",
    "      # Check if already gone through month\n",
    "      if (m == 2 and leap and d > 29):\n",
    "        continue\n",
    "      elif (m == 2 and d > 28):\n",
    "        continue\n",
    "      elif (m in [4, 6, 9, 10] and d > 30):\n",
    "        continue\n",
    " \n",
    "      # Open wunderground.com url\n",
    "      url = \"http://www.wunderground.com/history/airport/KBUF/\"+str(y)+ \"/\" + str(m) + \"/\" + str(d) + \"/DailyHistory.html\"\n",
    "      page = urllib2.urlopen(url)\n",
    " \n",
    "      # Get temperature from page\n",
    "      soup = BeautifulSoup(page)\n",
    "      # dayTemp = soup.body.nobr.b.string\n",
    "      dayTemp = soup.findAll(attrs={\"class\":\"nobr\"})[5].span.string\n",
    " \n",
    "      # Format month for timestamp\n",
    "      if len(str(m)) < 2:\n",
    "        mStamp = '0' + str(m)\n",
    "      else:\n",
    "        mStamp = str(m)\n",
    " \n",
    "      # Format day for timestamp\n",
    "      if len(str(d)) < 2:\n",
    "        dStamp = '0' + str(d)\n",
    "      else:\n",
    "        dStamp = str(d)\n",
    " \n",
    "      # Build timestamp\n",
    "      timestamp = str(y) + mStamp + dStamp\n",
    " \n",
    "      # Write timestamp and temperature to file\n",
    "      f.write(timestamp + ',' + dayTemp + '\\n')\n",
    " \n",
    "# Done getting data! Close file.\n",
    "f.close()\n"
   ]
  },
  {
   "cell_type": "code",
   "execution_count": null,
   "metadata": {
    "collapsed": false,
    "scrolled": false
   },
   "outputs": [],
   "source": [
    "# %load ch02/xml-to-csv.py\n",
    "from bs4 import BeautifulStoneSoup\n",
    "\n",
    "f = open('ch02/wunder-data.xml', 'r')\n",
    "xml = f.read()\n",
    "\n",
    "soup = BeautifulStoneSoup(xml)\n",
    "observations = soup.findAll('observation')\n",
    "for o in observations:\n",
    "    print(o.date.string + \",\" + o.max_temperature.string)\n",
    "    "
   ]
  },
  {
   "cell_type": "code",
   "execution_count": null,
   "metadata": {
    "collapsed": true
   },
   "outputs": [],
   "source": []
  }
 ],
 "metadata": {
  "anaconda-cloud": {},
  "kernelspec": {
   "display_name": "Python [default]",
   "language": "python",
   "name": "python3"
  },
  "language_info": {
   "codemirror_mode": {
    "name": "ipython",
    "version": 3
   },
   "file_extension": ".py",
   "mimetype": "text/x-python",
   "name": "python",
   "nbconvert_exporter": "python",
   "pygments_lexer": "ipython3",
   "version": "3.5.2"
  }
 },
 "nbformat": 4,
 "nbformat_minor": 1
}
