{
 "cells": [
  {
   "cell_type": "markdown",
   "metadata": {},
   "source": [
    "# Chapter 6: Visualizing Relationships\n",
    "## 6.1 What Relationships to Look For"
   ]
  },
  {
   "cell_type": "markdown",
   "metadata": {},
   "source": [
    "## 6.2 Correlation\n",
    "* More with Points  \n",
    "  * Create a Scatterplot  \n",
    "* Exploring More Variables  \n",
    "  * Create a Scatterplot Matrix  \n",
    "* Bubbles  \n",
    "  * Create a Bubble Chart  "
   ]
  },
  {
   "cell_type": "markdown",
   "metadata": {},
   "source": [
    "## 6.3 Distribution\n",
    "* Old School Distribution  \n",
    "  * Create a Stem-and-Leaf  \n",
    "* Distribution Bars  \n",
    "  * Create a Histogram  \n",
    "  * Create a Density Plot  "
   ]
  },
  {
   "cell_type": "markdown",
   "metadata": {},
   "source": [
    "## 6.4 Comparison\n",
    "* Multiple Distributions  \n",
    "  * Create a Histogram Matrix  \n",
    "  * Small Multiples  \n",
    "\n",
    "## 6.5 Wrapping Up"
   ]
  }
 ],
 "metadata": {
  "anaconda-cloud": {},
  "kernelspec": {
   "display_name": "Python [default]",
   "language": "python",
   "name": "python3"
  },
  "language_info": {
   "codemirror_mode": {
    "name": "ipython",
    "version": 3
   },
   "file_extension": ".py",
   "mimetype": "text/x-python",
   "name": "python",
   "nbconvert_exporter": "python",
   "pygments_lexer": "ipython3",
   "version": "3.5.2"
  }
 },
 "nbformat": 4,
 "nbformat_minor": 1
}
