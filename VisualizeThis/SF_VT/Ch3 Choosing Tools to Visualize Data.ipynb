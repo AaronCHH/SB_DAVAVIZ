{
 "cells": [
  {
   "cell_type": "markdown",
   "metadata": {},
   "source": [
    "# Chapter 3: Choosing Tools to Visualize Data\n",
    "## 3.1 Out-of-the-Box Visualization\n",
    "* Options  \n",
    "  * Microsoft Excel  \n",
    "  * Google Spreadsheets  \n",
    "  * Many Eyes  \n",
    "  * Tableau Software  \n",
    "  * your.flowingdata  \n",
    "* Trade-Offs  "
   ]
  },
  {
   "cell_type": "markdown",
   "metadata": {},
   "source": [
    "## 3.2 Programming\n",
    "* Options  \n",
    "  * Python  \n",
    "  * PHP  \n",
    "  * Processing  \n",
    "  * Flash and ActionScript  \n",
    "  * HTML, JavaScript, and CSS  \n",
    "  * R  \n",
    "* Trade-Offs  "
   ]
  },
  {
   "cell_type": "markdown",
   "metadata": {},
   "source": [
    "## 3.3 Illustration\n",
    "* Options  \n",
    "  * Adobe Illustrator  \n",
    "  * Inkscape  \n",
    "  * Others  \n",
    "* Trade-Offs  "
   ]
  },
  {
   "cell_type": "markdown",
   "metadata": {},
   "source": [
    "## 3.4 Mapping\n",
    "* Options  \n",
    "  * Google, Yahoo, and Microsoft Maps  \n",
    "  * ArcGIS  \n",
    "  * Modest Maps  \n",
    "  * Polymaps  \n",
    "  * R  \n",
    "  * Online-Based Solutions  \n",
    "* Trade-Offs  "
   ]
  },
  {
   "cell_type": "markdown",
   "metadata": {},
   "source": [
    "## 3.5 Survey Your Options\n",
    "* Combining Them  \n",
    "\n",
    "## 3.6 Wrapping Up"
   ]
  },
  {
   "cell_type": "code",
   "execution_count": null,
   "metadata": {
    "collapsed": true
   },
   "outputs": [],
   "source": []
  }
 ],
 "metadata": {
  "anaconda-cloud": {},
  "kernelspec": {
   "display_name": "Python [default]",
   "language": "python",
   "name": "python3"
  },
  "language_info": {
   "codemirror_mode": {
    "name": "ipython",
    "version": 3
   },
   "file_extension": ".py",
   "mimetype": "text/x-python",
   "name": "python",
   "nbconvert_exporter": "python",
   "pygments_lexer": "ipython3",
   "version": "3.5.2"
  }
 },
 "nbformat": 4,
 "nbformat_minor": 1
}
