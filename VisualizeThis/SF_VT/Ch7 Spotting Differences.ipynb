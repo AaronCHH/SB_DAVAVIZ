{
 "cells": [
  {
   "cell_type": "markdown",
   "metadata": {},
   "source": [
    "# Chapter 7: Spotting Differences\n",
    "## 7.1 What to Look For\n",
    "## 7.2 Comparing across Multiple Variables\n",
    "* Getting Warmer  \n",
    "  * Create a Heatmap  \n",
    "* See It in His Face  \n",
    "  * Create Chernoff Faces  \n",
    "* Starry Night  \n",
    "  * Create Star Charts  \n",
    "* Running in Parallel  \n",
    "  * Create a Parallel Coordinates Plot  "
   ]
  },
  {
   "cell_type": "markdown",
   "metadata": {},
   "source": [
    "  \n",
    "## 7.3 Reducing Dimensions\n",
    "* Make Use of Multidimensional Scaling  "
   ]
  },
  {
   "cell_type": "markdown",
   "metadata": {},
   "source": [
    "## 7.4 Searching for Outliers"
   ]
  },
  {
   "cell_type": "markdown",
   "metadata": {},
   "source": [
    "## 7.5 Wrapping Up"
   ]
  }
 ],
 "metadata": {
  "anaconda-cloud": {},
  "kernelspec": {
   "display_name": "Python [default]",
   "language": "python",
   "name": "python3"
  },
  "language_info": {
   "codemirror_mode": {
    "name": "ipython",
    "version": 3
   },
   "file_extension": ".py",
   "mimetype": "text/x-python",
   "name": "python",
   "nbconvert_exporter": "python",
   "pygments_lexer": "ipython3",
   "version": "3.5.2"
  }
 },
 "nbformat": 4,
 "nbformat_minor": 1
}
